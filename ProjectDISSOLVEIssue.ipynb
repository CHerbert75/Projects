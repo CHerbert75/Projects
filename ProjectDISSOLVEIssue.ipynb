{
 "cells": [
  {
   "cell_type": "code",
   "execution_count": 45,
   "metadata": {},
   "outputs": [],
   "source": [
    "import matplotlib.pyplot as plt #\n",
    "import pandas as pd\n",
    "import geopandas as gpd\n",
    "import numpy as np\n",
    "import mapclassify\n",
    "from shapely.geometry import Point\n",
    "\n",
    "%matplotlib inline\n",
    "plt.rcParams[\"figure.figsize\"] = (10,15)\n",
    "\n",
    "#read in two geodataframes\n",
    "NYC_BlockGroup_Shapes = gpd.read_file(r'C:\\Users\\CHerbert\\Downloads\\GeoComp2\\ElectricalOutageProject\\RawData_PowerOutageProjectbyblkgrp\\TIGER2018Shapefilebyblkgrp_NYC_countiesonly_wextraGEOIDColumnCopy_projected.shp',dtype={'GEO_ID_DBL':'int64'})\n",
    "NYC_PowerOutageLocations = gpd.read_file(r'C:\\Users\\CHerbert\\Downloads\\GeoComp2\\ElectricalOutageProject\\RawData_PowerOutageProjectbyblkgrp\\PowerOutages311_AllNYC_2014to2020.shp')"
   ]
  },
  {
   "cell_type": "code",
   "execution_count": 46,
   "metadata": {},
   "outputs": [
    {
     "data": {
      "text/plain": [
       "{'init': 'epsg:2263'}"
      ]
     },
     "execution_count": 46,
     "metadata": {},
     "output_type": "execute_result"
    }
   ],
   "source": [
    "NYC_BlockGroup_Shapes.crs"
   ]
  },
  {
   "cell_type": "code",
   "execution_count": 47,
   "metadata": {},
   "outputs": [
    {
     "data": {
      "text/plain": [
       "{'init': 'epsg:2263'}"
      ]
     },
     "execution_count": 47,
     "metadata": {},
     "output_type": "execute_result"
    }
   ],
   "source": [
    "NYC_PowerOutageLocations.crs"
   ]
  },
  {
   "cell_type": "code",
   "execution_count": 48,
   "metadata": {},
   "outputs": [],
   "source": [
    "NYC_BlockGroup_Shapes['GEO_ID_INT']=NYC_BlockGroup_Shapes['GEO_ID_DBL'].astype('int64')"
   ]
  },
  {
   "cell_type": "code",
   "execution_count": 49,
   "metadata": {},
   "outputs": [
    {
     "name": "stdout",
     "output_type": "stream",
     "text": [
      "<class 'geopandas.geodataframe.GeoDataFrame'>\n",
      "RangeIndex: 6493 entries, 0 to 6492\n",
      "Data columns (total 17 columns):\n",
      " #   Column      Non-Null Count  Dtype   \n",
      "---  ------      --------------  -----   \n",
      " 0   STATEFP     6493 non-null   object  \n",
      " 1   COUNTYFP    6493 non-null   object  \n",
      " 2   TRACTCE     6493 non-null   object  \n",
      " 3   BLKGRPCE    6493 non-null   object  \n",
      " 4   GEOID       6493 non-null   object  \n",
      " 5   NAMELSAD    6493 non-null   object  \n",
      " 6   MTFCC       6493 non-null   object  \n",
      " 7   FUNCSTAT    6493 non-null   object  \n",
      " 8   ALAND       6493 non-null   float64 \n",
      " 9   AWATER      6493 non-null   float64 \n",
      " 10  INTPTLAT    6493 non-null   object  \n",
      " 11  INTPTLON    6493 non-null   object  \n",
      " 12  Shape_Leng  6493 non-null   float64 \n",
      " 13  Shape_Area  6493 non-null   float64 \n",
      " 14  GEO_ID_DBL  6493 non-null   float64 \n",
      " 15  geometry    6493 non-null   geometry\n",
      " 16  GEO_ID_INT  6493 non-null   int64   \n",
      "dtypes: float64(5), geometry(1), int64(1), object(10)\n",
      "memory usage: 862.5+ KB\n"
     ]
    }
   ],
   "source": [
    "NYC_BlockGroup_Shapes.info()"
   ]
  },
  {
   "cell_type": "code",
   "execution_count": 50,
   "metadata": {},
   "outputs": [],
   "source": [
    "NYC_PowerOutageLocations['OutageCount']=1"
   ]
  },
  {
   "cell_type": "code",
   "execution_count": 51,
   "metadata": {},
   "outputs": [],
   "source": [
    "#Spatial Join: Create a relationship between the power outage locations and the block groups that they 'intersect' or are within:\n",
    "NYCBlockGroups_outage_intersect = gpd.sjoin(NYC_PowerOutageLocations, NYC_BlockGroup_Shapes, how='left', op='intersects')\n",
    "NYCBlockGroups_outage_intersect.to_file(r'C:\\Users\\CHerbert\\Downloads\\GeoComp2\\ElectricalOutageProject\\RawData_PowerOutageProjectbyblkgrp\\ACS2018NYCbyblkgrp_outageintersect.shp')"
   ]
  },
  {
   "cell_type": "code",
   "execution_count": 52,
   "metadata": {},
   "outputs": [
    {
     "ename": "RuntimeError",
     "evalue": "Failed to write record: {'id': '360050002002', 'type': 'Feature', 'properties': {'ALAND': 2887352.0, 'AWATER': 0.0, 'BBL': 26452170608.0, 'GEO_ID_DBL': 4680650026026.0, 'Incident_Z': 136149, 'ORIG_FID': -13, 'OutageCount': 13, 'Shape_Area': 0.00030815450673799997, 'Shape_Leng': 0.5536364633423001, 'Unique_Key': 487870008, 'X_Coordina': 13293276, 'Y_Coordina': 3060178, 'index_right': 63349}, 'geometry': {'type': 'MultiPoint', 'coordinates': ((1021876.9998651743, 235840.00015442073), (1022098.0000793338, 236038.00008650124), (1022177.99991934, 235583.00001224875), (1022513.9999035001, 235213.0000960827), (1023028.9998577535, 235300.99992008507), (1023032.9998497516, 235240.00004209578), (1023432.0000360012, 234487.99990567565))}}",
     "output_type": "error",
     "traceback": [
      "\u001b[1;31m---------------------------------------------------------------------------\u001b[0m",
      "\u001b[1;31mRuntimeError\u001b[0m                              Traceback (most recent call last)",
      "\u001b[1;32m<ipython-input-52-f17ffb40fa66>\u001b[0m in \u001b[0;36m<module>\u001b[1;34m\u001b[0m\n\u001b[0;32m      1\u001b[0m \u001b[0mNYCBlockGroups_outage_intersect_dissolve\u001b[0m \u001b[1;33m=\u001b[0m \u001b[0mNYCBlockGroups_outage_intersect_select\u001b[0m\u001b[1;33m.\u001b[0m\u001b[0mdissolve\u001b[0m\u001b[1;33m(\u001b[0m\u001b[0mby\u001b[0m\u001b[1;33m=\u001b[0m\u001b[1;34m'GEO_ID_INT'\u001b[0m\u001b[1;33m,\u001b[0m\u001b[0maggfunc\u001b[0m\u001b[1;33m=\u001b[0m\u001b[0msum\u001b[0m\u001b[1;33m)\u001b[0m\u001b[1;33m\u001b[0m\u001b[1;33m\u001b[0m\u001b[0m\n\u001b[1;32m----> 2\u001b[1;33m \u001b[0mNYCBlockGroups_outage_intersect_dissolve\u001b[0m\u001b[1;33m.\u001b[0m\u001b[0mto_file\u001b[0m\u001b[1;33m(\u001b[0m\u001b[1;34mr'C:\\Users\\CHerbert\\Downloads\\GeoComp2\\ElectricalOutageProject\\RawData_PowerOutageProjectbyblkgrp\\ACS2018NYCbyblkgrp_outage_onlyintersectdissolve.shp'\u001b[0m\u001b[1;33m)\u001b[0m\u001b[1;33m\u001b[0m\u001b[1;33m\u001b[0m\u001b[0m\n\u001b[0m",
      "\u001b[1;32m~\\AppData\\Local\\Continuum\\anaconda3\\lib\\site-packages\\geopandas\\geodataframe.py\u001b[0m in \u001b[0;36mto_file\u001b[1;34m(self, filename, driver, schema, **kwargs)\u001b[0m\n\u001b[0;32m    513\u001b[0m         \u001b[1;32mfrom\u001b[0m \u001b[0mgeopandas\u001b[0m\u001b[1;33m.\u001b[0m\u001b[0mio\u001b[0m\u001b[1;33m.\u001b[0m\u001b[0mfile\u001b[0m \u001b[1;32mimport\u001b[0m \u001b[0mto_file\u001b[0m\u001b[1;33m\u001b[0m\u001b[1;33m\u001b[0m\u001b[0m\n\u001b[0;32m    514\u001b[0m \u001b[1;33m\u001b[0m\u001b[0m\n\u001b[1;32m--> 515\u001b[1;33m         \u001b[0mto_file\u001b[0m\u001b[1;33m(\u001b[0m\u001b[0mself\u001b[0m\u001b[1;33m,\u001b[0m \u001b[0mfilename\u001b[0m\u001b[1;33m,\u001b[0m \u001b[0mdriver\u001b[0m\u001b[1;33m,\u001b[0m \u001b[0mschema\u001b[0m\u001b[1;33m,\u001b[0m \u001b[1;33m**\u001b[0m\u001b[0mkwargs\u001b[0m\u001b[1;33m)\u001b[0m\u001b[1;33m\u001b[0m\u001b[1;33m\u001b[0m\u001b[0m\n\u001b[0m\u001b[0;32m    516\u001b[0m \u001b[1;33m\u001b[0m\u001b[0m\n\u001b[0;32m    517\u001b[0m     \u001b[1;32mdef\u001b[0m \u001b[0mto_crs\u001b[0m\u001b[1;33m(\u001b[0m\u001b[0mself\u001b[0m\u001b[1;33m,\u001b[0m \u001b[0mcrs\u001b[0m\u001b[1;33m=\u001b[0m\u001b[1;32mNone\u001b[0m\u001b[1;33m,\u001b[0m \u001b[0mepsg\u001b[0m\u001b[1;33m=\u001b[0m\u001b[1;32mNone\u001b[0m\u001b[1;33m,\u001b[0m \u001b[0minplace\u001b[0m\u001b[1;33m=\u001b[0m\u001b[1;32mFalse\u001b[0m\u001b[1;33m)\u001b[0m\u001b[1;33m:\u001b[0m\u001b[1;33m\u001b[0m\u001b[1;33m\u001b[0m\u001b[0m\n",
      "\u001b[1;32m~\\AppData\\Local\\Continuum\\anaconda3\\lib\\site-packages\\geopandas\\io\\file.py\u001b[0m in \u001b[0;36mto_file\u001b[1;34m(df, filename, driver, schema, **kwargs)\u001b[0m\n\u001b[0;32m    128\u001b[0m             \u001b[0mfilename\u001b[0m\u001b[1;33m,\u001b[0m \u001b[1;34m\"w\"\u001b[0m\u001b[1;33m,\u001b[0m \u001b[0mdriver\u001b[0m\u001b[1;33m=\u001b[0m\u001b[0mdriver\u001b[0m\u001b[1;33m,\u001b[0m \u001b[0mcrs\u001b[0m\u001b[1;33m=\u001b[0m\u001b[0mdf\u001b[0m\u001b[1;33m.\u001b[0m\u001b[0mcrs\u001b[0m\u001b[1;33m,\u001b[0m \u001b[0mschema\u001b[0m\u001b[1;33m=\u001b[0m\u001b[0mschema\u001b[0m\u001b[1;33m,\u001b[0m \u001b[1;33m**\u001b[0m\u001b[0mkwargs\u001b[0m\u001b[1;33m\u001b[0m\u001b[1;33m\u001b[0m\u001b[0m\n\u001b[0;32m    129\u001b[0m         ) as colxn:\n\u001b[1;32m--> 130\u001b[1;33m             \u001b[0mcolxn\u001b[0m\u001b[1;33m.\u001b[0m\u001b[0mwriterecords\u001b[0m\u001b[1;33m(\u001b[0m\u001b[0mdf\u001b[0m\u001b[1;33m.\u001b[0m\u001b[0miterfeatures\u001b[0m\u001b[1;33m(\u001b[0m\u001b[1;33m)\u001b[0m\u001b[1;33m)\u001b[0m\u001b[1;33m\u001b[0m\u001b[1;33m\u001b[0m\u001b[0m\n\u001b[0m\u001b[0;32m    131\u001b[0m \u001b[1;33m\u001b[0m\u001b[0m\n\u001b[0;32m    132\u001b[0m \u001b[1;33m\u001b[0m\u001b[0m\n",
      "\u001b[1;32m~\\AppData\\Local\\Continuum\\anaconda3\\lib\\site-packages\\fiona\\collection.py\u001b[0m in \u001b[0;36mwriterecords\u001b[1;34m(self, records)\u001b[0m\n\u001b[0;32m    340\u001b[0m         \u001b[1;32mif\u001b[0m \u001b[0mself\u001b[0m\u001b[1;33m.\u001b[0m\u001b[0mmode\u001b[0m \u001b[1;32mnot\u001b[0m \u001b[1;32min\u001b[0m \u001b[1;33m(\u001b[0m\u001b[1;34m'a'\u001b[0m\u001b[1;33m,\u001b[0m \u001b[1;34m'w'\u001b[0m\u001b[1;33m)\u001b[0m\u001b[1;33m:\u001b[0m\u001b[1;33m\u001b[0m\u001b[1;33m\u001b[0m\u001b[0m\n\u001b[0;32m    341\u001b[0m             \u001b[1;32mraise\u001b[0m \u001b[0mIOError\u001b[0m\u001b[1;33m(\u001b[0m\u001b[1;34m\"collection not open for writing\"\u001b[0m\u001b[1;33m)\u001b[0m\u001b[1;33m\u001b[0m\u001b[1;33m\u001b[0m\u001b[0m\n\u001b[1;32m--> 342\u001b[1;33m         \u001b[0mself\u001b[0m\u001b[1;33m.\u001b[0m\u001b[0msession\u001b[0m\u001b[1;33m.\u001b[0m\u001b[0mwriterecs\u001b[0m\u001b[1;33m(\u001b[0m\u001b[0mrecords\u001b[0m\u001b[1;33m,\u001b[0m \u001b[0mself\u001b[0m\u001b[1;33m)\u001b[0m\u001b[1;33m\u001b[0m\u001b[1;33m\u001b[0m\u001b[0m\n\u001b[0m\u001b[0;32m    343\u001b[0m         \u001b[0mself\u001b[0m\u001b[1;33m.\u001b[0m\u001b[0m_len\u001b[0m \u001b[1;33m=\u001b[0m \u001b[0mself\u001b[0m\u001b[1;33m.\u001b[0m\u001b[0msession\u001b[0m\u001b[1;33m.\u001b[0m\u001b[0mget_length\u001b[0m\u001b[1;33m(\u001b[0m\u001b[1;33m)\u001b[0m\u001b[1;33m\u001b[0m\u001b[1;33m\u001b[0m\u001b[0m\n\u001b[0;32m    344\u001b[0m         \u001b[0mself\u001b[0m\u001b[1;33m.\u001b[0m\u001b[0m_bounds\u001b[0m \u001b[1;33m=\u001b[0m \u001b[0mself\u001b[0m\u001b[1;33m.\u001b[0m\u001b[0msession\u001b[0m\u001b[1;33m.\u001b[0m\u001b[0mget_extent\u001b[0m\u001b[1;33m(\u001b[0m\u001b[1;33m)\u001b[0m\u001b[1;33m\u001b[0m\u001b[1;33m\u001b[0m\u001b[0m\n",
      "\u001b[1;32mfiona/ogrext.pyx\u001b[0m in \u001b[0;36mfiona.ogrext.WritingSession.writerecs\u001b[1;34m()\u001b[0m\n",
      "\u001b[1;31mRuntimeError\u001b[0m: Failed to write record: {'id': '360050002002', 'type': 'Feature', 'properties': {'ALAND': 2887352.0, 'AWATER': 0.0, 'BBL': 26452170608.0, 'GEO_ID_DBL': 4680650026026.0, 'Incident_Z': 136149, 'ORIG_FID': -13, 'OutageCount': 13, 'Shape_Area': 0.00030815450673799997, 'Shape_Leng': 0.5536364633423001, 'Unique_Key': 487870008, 'X_Coordina': 13293276, 'Y_Coordina': 3060178, 'index_right': 63349}, 'geometry': {'type': 'MultiPoint', 'coordinates': ((1021876.9998651743, 235840.00015442073), (1022098.0000793338, 236038.00008650124), (1022177.99991934, 235583.00001224875), (1022513.9999035001, 235213.0000960827), (1023028.9998577535, 235300.99992008507), (1023032.9998497516, 235240.00004209578), (1023432.0000360012, 234487.99990567565))}}"
     ]
    }
   ],
   "source": [
    "NYCBlockGroups_outage_intersect_dissolve = NYCBlockGroups_outage_intersect_select.dissolve(by='GEO_ID_INT',aggfunc=sum)\n",
    "NYCBlockGroups_outage_intersect_dissolve.to_file(r'C:\\Users\\CHerbert\\Downloads\\GeoComp2\\ElectricalOutageProject\\RawData_PowerOutageProjectbyblkgrp\\ACS2018NYCbyblkgrp_outage_onlyintersectdissolve.shp')"
   ]
  },
  {
   "cell_type": "code",
   "execution_count": null,
   "metadata": {},
   "outputs": [],
   "source": []
  }
 ],
 "metadata": {
  "kernelspec": {
   "display_name": "Python 3",
   "language": "python",
   "name": "python3"
  },
  "language_info": {
   "codemirror_mode": {
    "name": "ipython",
    "version": 3
   },
   "file_extension": ".py",
   "mimetype": "text/x-python",
   "name": "python",
   "nbconvert_exporter": "python",
   "pygments_lexer": "ipython3",
   "version": "3.7.3"
  }
 },
 "nbformat": 4,
 "nbformat_minor": 4
}
